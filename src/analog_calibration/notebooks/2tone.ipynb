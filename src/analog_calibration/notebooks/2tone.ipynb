{
 "cells": [
  {
   "cell_type": "code",
   "execution_count": null,
   "metadata": {},
   "outputs": [],
   "source": [
    "from qibo.models import Circuit\n",
    "from qibo import gates\n",
    "import numpy as np\n",
    "from tqdm.auto import tqdm\n",
    "import lmfit\n",
    "import matplotlib.pyplot as plt\n",
    "\n",
    "import qililab as ql\n",
    "from qililab.circuit_transpiler.native_gates import Wait\n",
    "from qililab.calibration.calibration_node import export_nb_outputs\n",
    "\n",
    "\n",
    "ql.logger.setLevel(40)"
   ]
  },
  {
   "cell_type": "code",
   "execution_count": null,
   "metadata": {},
   "outputs": [],
   "source": [
    "qubit = 0\n",
    "M_BUFFER_TIME = 0\n",
    "HW_AVG = 3000\n",
    "REPETITION_DURATION = 200_000\n",
    "check = False\n",
    "number_of_random_datapoints = 10\n",
    "compare_fit = []\n",
    "PLATFORM_PATH = \"../../runcards/example_runcard.yml\"\n",
    "partition = \"example_partition\""
   ]
  },
  {
   "cell_type": "code",
   "execution_count": null,
   "metadata": {},
   "outputs": [],
   "source": [
    "# Define circuit\n",
    "circuit = Circuit(qubit + 1)\n",
    "circuit.add(ql.Drag(qubit, theta=np.pi, phase=0))\n",
    "circuit.add(Wait(qubit, M_BUFFER_TIME))\n",
    "circuit.add(gates.M(qubit))"
   ]
  },
  {
   "cell_type": "code",
   "execution_count": null,
   "metadata": {},
   "outputs": [],
   "source": [
    "platform = ql.build_platform(runcard=PLATFORM_PATH)\n",
    "\n",
    "IF = platform.get_parameter(alias=f\"drive_q{qubit}_bus\", parameter=ql.Parameter.IF)\n",
    "sweep_interval = np.arange(IF - 5e6, IF + 5e6, step=0.2e6)\n",
    "if len(compare_fit) > 0:\n",
    "    compare_fit = [np.array(compare_fit[0]), np.array(compare_fit[1])]\n",
    "\n",
    "if check and len(sweep_interval) != number_of_random_datapoints:\n",
    "    sweep_interval = np.array(\n",
    "        [sweep_interval[np.random.randint(0, len(sweep_interval))] for _ in range(number_of_random_datapoints)]\n",
    "    )\n",
    "\n",
    "old_amplitude = platform.get_parameter(alias=f\"Drag({qubit})\", parameter=ql.Parameter.AMPLITUDE)\n",
    "old_duration = platform.get_parameter(alias=f\"Drag({qubit})\", parameter=ql.Parameter.DURATION)\n",
    "\n",
    "platform.set_parameter(alias=f\"Drag({qubit})\", parameter=ql.Parameter.AMPLITUDE, value=0.005)\n",
    "platform.set_parameter(alias=f\"Drag({qubit})\", parameter=ql.Parameter.DURATION, value=1000)"
   ]
  },
  {
   "cell_type": "code",
   "execution_count": null,
   "metadata": {},
   "outputs": [],
   "source": [
    "job_name = f\"AC-2T-q{qubit}\""
   ]
  },
  {
   "cell_type": "code",
   "execution_count": null,
   "metadata": {},
   "outputs": [],
   "source": [
    "%%submit_job -o results -p $partition -n $job_name\n",
    "\n",
    "platform.connect()\n",
    "platform.initial_setup()\n",
    "platform.turn_on_instruments()\n",
    "\n",
    "# Run experiment\n",
    "results = []\n",
    "for freq in tqdm(iterable=sweep_interval, total=len(sweep_interval), desc=\"IF frequency\", colour=\"green\"):\n",
    "    platform.set_parameter(alias=f\"drive_q{qubit}_bus\", parameter=ql.Parameter.IF, value=float(freq))\n",
    "    result = platform.execute(program=circuit, num_avg=HW_AVG, repetition_duration=REPETITION_DURATION)\n",
    "    results.append(result.array)\n",
    "\n",
    "platform.set_parameter(alias=f\"Drag({qubit})\", parameter=ql.Parameter.AMPLITUDE, value=old_amplitude)\n",
    "platform.set_parameter(alias=f\"Drag({qubit})\", parameter=ql.Parameter.DURATION, value=old_duration)\n",
    "\n",
    "results = np.hstack(results)\n",
    "\n",
    "platform.disconnect()"
   ]
  },
  {
   "cell_type": "code",
   "execution_count": null,
   "metadata": {},
   "outputs": [],
   "source": [
    "results = results.result()\n",
    "loops = {\"drive_q{qubit}_bus_if\": sweep_interval}\n",
    "ql.save_results(results=results, loops=loops, data_path=\"../data/\", name=job_name)"
   ]
  },
  {
   "cell_type": "code",
   "execution_count": null,
   "metadata": {},
   "outputs": [],
   "source": [
    "def plot_iq(xdata, results: np.ndarray, title_label: str, xlabel: str, check=False):\n",
    "    fig, axes = plt.subplots(1, 2, figsize=(13, 7))\n",
    "    if check:\n",
    "        axes[0].scatter(xdata, results[0])\n",
    "        axes[1].scatter(xdata, results[1])\n",
    "    else:\n",
    "        axes[0].plot(xdata, results[0], \"--o\", color=\"blue\")\n",
    "        axes[1].plot(xdata, results[1], \"--o\", color=\"blue\")\n",
    "    axy = axes[1].twiny()\n",
    "    # other_xlim = axes[1].get_xlim()\n",
    "    axy.set_xlim(-10, 10)\n",
    "    axes[0].set_title(\"I\")\n",
    "    axes[1].set_title(\"Q\")\n",
    "    axes[0].set_xlabel(xlabel)\n",
    "    axes[1].set_xlabel(xlabel)\n",
    "    axes[0].set_ylabel(\"Voltage [a.u.]\")\n",
    "    axes[1].set_ylabel(\"Voltage [a.u.]\")\n",
    "    fig.suptitle(title_label)\n",
    "    return fig, axes"
   ]
  },
  {
   "cell_type": "code",
   "execution_count": null,
   "metadata": {},
   "outputs": [],
   "source": [
    "# Initialize dictionaries\n",
    "r_squared = {\"i\": 0, \"q\": 0}\n",
    "fitted_ifs = {\"i\": None, \"q\": None}\n",
    "fitted_eval_funcs = []\n",
    "\n",
    "# Loop over quadratures\n",
    "for fit_quadrature in [\"i\", \"q\"]:\n",
    "    # Fitting function\n",
    "    def lorentzian(x, amplitude, center, width, offset):\n",
    "        return amplitude / (1 + ((x - center) / (0.5 * width)) ** 2) + offset\n",
    "\n",
    "    # Fit signal\n",
    "    fit_signal = results[0] if fit_quadrature == \"i\" else results[1]\n",
    "\n",
    "    # Lorentzian fit\n",
    "    mod = lmfit.Model(lorentzian)\n",
    "\n",
    "    # Set initial parameter values\n",
    "    initial_amp = max(fit_signal) - min(fit_signal)\n",
    "    if (np.mean(fit_signal) - min(fit_signal)) ** 2 > (np.mean(fit_signal) - max(fit_signal)) ** 2:\n",
    "        # if the mean of the values is closer to the maximum, it means we have negative amplitude!\n",
    "        initial_amp = -initial_amp\n",
    "\n",
    "    mod.set_param_hint(\n",
    "        \"amplitude\",\n",
    "        value=initial_amp,\n",
    "        min=-abs(max(fit_signal) - min(fit_signal)),\n",
    "        max=abs(max(fit_signal) - min(fit_signal)),\n",
    "    )\n",
    "    mod.set_param_hint(\"center\", value=np.mean(sweep_interval), min=np.min(sweep_interval), max=np.max(sweep_interval))\n",
    "    mod.set_param_hint(\n",
    "        \"width\",\n",
    "        value=(max(sweep_interval) - min(sweep_interval)) / 10,\n",
    "        min=(max(sweep_interval) - min(sweep_interval)) / 100,\n",
    "        max=(max(sweep_interval) - min(sweep_interval)),\n",
    "    )\n",
    "    mod.set_param_hint(\"offset\", value=np.mean(fit_signal), min=np.min(fit_signal), max=np.max(fit_signal))\n",
    "\n",
    "    params = mod.make_params()\n",
    "    fit = mod.fit(data=fit_signal, params=params, x=sweep_interval, method=\"differential_evolution\")\n",
    "\n",
    "    # Update r_squared value\n",
    "    r_squared[fit_quadrature] = fit.rsquared\n",
    "\n",
    "    fitted_amplitude = fit.params[\"amplitude\"].value\n",
    "    fitted_center = fit.params[\"center\"].value\n",
    "    fitted_width = fit.params[\"width\"].value\n",
    "    fitted_offset = fit.params[\"offset\"].value\n",
    "\n",
    "    popt = [fitted_amplitude, fitted_center, fitted_width, fitted_offset]\n",
    "\n",
    "    xdata = np.linspace(min(sweep_interval), max(sweep_interval), num=1000)\n",
    "\n",
    "    if fitted_amplitude < 0:\n",
    "        fitted_if = sweep_interval[\n",
    "            np.argmin(lorentzian(sweep_interval, fitted_amplitude, fitted_center, fitted_width, fitted_offset))\n",
    "        ]\n",
    "    else:\n",
    "        fitted_if = sweep_interval[\n",
    "            np.argmax(lorentzian(sweep_interval, fitted_amplitude, fitted_center, fitted_width, fitted_offset))\n",
    "        ]\n",
    "\n",
    "    fitted_ifs[fit_quadrature] = fitted_if\n",
    "    fitted_func = lorentzian(sweep_interval, *popt)\n",
    "    fitted_eval_funcs.append(fitted_func)\n",
    "\n",
    "    # Plot\n",
    "    fig, axes = plot_iq(\n",
    "        xdata=sweep_interval, results=results, title_label=f\"2 Tone q{qubit}\", xlabel=\"Amplitude\", check=check\n",
    "    )\n",
    "    ax = axes[0 if fit_quadrature == \"i\" else 1]\n",
    "    if check and len(compare_fit) > 0:\n",
    "        fitted_func = compare_fit[1][0] if fit_quadrature == \"i\" else compare_fit[1][1]\n",
    "        ax.plot(compare_fit[0], fitted_func, \"--\", label=\"previously calibrated fit\", color=\"red\")\n",
    "        ax.legend()\n",
    "    else:\n",
    "        label_fit = f\"FITTED IF = {fitted_if}\"\n",
    "        ax.plot(sweep_interval, fitted_func, \"--\", label=label_fit, color=\"red\")\n",
    "    ax.legend()\n",
    "\n",
    "# Display results or further analysis as needed"
   ]
  },
  {
   "cell_type": "code",
   "execution_count": null,
   "metadata": {},
   "outputs": [],
   "source": [
    "best_quadrature = \"i\" if r_squared[\"i\"] > r_squared[\"q\"] else \"q\"\n",
    "best_fit = fitted_ifs[best_quadrature]\n",
    "\n",
    "print(f\"Fitted IF: {best_fit}\")"
   ]
  },
  {
   "cell_type": "code",
   "execution_count": null,
   "metadata": {},
   "outputs": [],
   "source": [
    "key = \"IF\"\n",
    "print(f\"OUTPUTS{key}:{best_fit}\")"
   ]
  },
  {
   "cell_type": "code",
   "execution_count": null,
   "metadata": {},
   "outputs": [],
   "source": [
    "platform_parameters = [(ql.Parameter.IF, float(best_fit), f\"drive_q{qubit}_bus\", None)]"
   ]
  },
  {
   "cell_type": "code",
   "execution_count": null,
   "metadata": {},
   "outputs": [],
   "source": [
    "export_nb_outputs(\n",
    "    {\n",
    "        \"check_parameters\": {\n",
    "            \"sweep_interval\": sweep_interval,\n",
    "            \"results\": results,\n",
    "            \"fit\": fitted_eval_funcs,\n",
    "            \"optimal_parameter\": best_fit,\n",
    "        },\n",
    "        \"platform_parameters\": platform_parameters,\n",
    "    }\n",
    ")"
   ]
  }
 ],
 "metadata": {
  "language_info": {
   "name": "python"
  },
  "orig_nbformat": 4
 },
 "nbformat": 4,
 "nbformat_minor": 2
}
