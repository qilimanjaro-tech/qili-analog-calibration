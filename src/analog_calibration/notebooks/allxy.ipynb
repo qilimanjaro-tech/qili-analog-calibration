{
 "cells": [
  {
   "cell_type": "code",
   "execution_count": null,
   "metadata": {},
   "outputs": [],
   "source": [
    "from qibo.models import Circuit\n",
    "from qibo import gates\n",
    "import numpy as np\n",
    "from tqdm.auto import tqdm\n",
    "import lmfit\n",
    "import matplotlib.pyplot as plt\n",
    "\n",
    "import qililab as ql\n",
    "from qililab.circuit_transpiler.native_gates import Wait\n",
    "from qililab.calibration.calibration_node import export_nb_outputs\n",
    "\n",
    "\n",
    "ql.logger.setLevel(40)"
   ]
  },
  {
   "cell_type": "code",
   "execution_count": null,
   "metadata": {},
   "outputs": [],
   "source": [
    "qubit = 0\n",
    "M_BUFFER_TIME = 0\n",
    "HW_AVG = 3000\n",
    "REPETITION_DURATION = 200_000\n",
    "check = False\n",
    "number_of_random_datapoints = 10\n",
    "compare_fit = []\n",
    "PLATFORM_PATH = \"../../runcards/example_runcard.yml\"\n",
    "partition = \"example_partition\""
   ]
  },
  {
   "attachments": {},
   "cell_type": "markdown",
   "metadata": {},
   "source": [
    "### Define sequence"
   ]
  },
  {
   "cell_type": "code",
   "execution_count": null,
   "metadata": {},
   "outputs": [],
   "source": [
    "circuit_settings = {\n",
    "    \"circuits\": [\n",
    "        {\"name\": \"II\", \"gates\": [\"I\", \"I\", \"M\"], \"params\": [-1, -1, -1]},\n",
    "        {\"name\": \"XpXp\", \"gates\": [\"RX\", \"RX\", \"M\"], \"params\": [1, 1, -1]},\n",
    "        {\"name\": \"YpYp\", \"gates\": [\"RY\", \"RY\", \"M\"], \"params\": [1, 1, -1]},\n",
    "        {\"name\": \"XpYp\", \"gates\": [\"RX\", \"RY\", \"M\"], \"params\": [1, 1, -1]},\n",
    "        {\"name\": \"YpXp\", \"gates\": [\"RY\", \"RX\", \"M\"], \"params\": [1, 1, -1]},\n",
    "        {\"name\": \"X9I\", \"gates\": [\"RX\", \"I\", \"M\"], \"params\": [0.5, -1, -1]},\n",
    "        {\"name\": \"Y9I\", \"gates\": [\"RY\", \"I\", \"M\"], \"params\": [0.5, -1, -1]},\n",
    "        {\"name\": \"X9Y9\", \"gates\": [\"RX\", \"RY\", \"M\"], \"params\": [0.5, 0.5, -1]},\n",
    "        {\"name\": \"Y9X9\", \"gates\": [\"RY\", \"RX\", \"M\"], \"params\": [0.5, 0.5, -1]},\n",
    "        {\"name\": \"X9Yp\", \"gates\": [\"RX\", \"RY\", \"M\"], \"params\": [0.5, 1, -1]},\n",
    "        {\"name\": \"Y9Xp\", \"gates\": [\"RY\", \"RX\", \"M\"], \"params\": [0.5, 1, -1]},\n",
    "        {\"name\": \"XpY9\", \"gates\": [\"RX\", \"RY\", \"M\"], \"params\": [1, 0.5, -1]},\n",
    "        {\"name\": \"YpX9\", \"gates\": [\"RY\", \"RX\", \"M\"], \"params\": [1, 0.5, -1]},\n",
    "        {\"name\": \"X9Xp\", \"gates\": [\"RX\", \"RX\", \"M\"], \"params\": [0.5, 1, -1]},\n",
    "        {\"name\": \"XpX9\", \"gates\": [\"RX\", \"RX\", \"M\"], \"params\": [1, 0.5, -1]},\n",
    "        {\"name\": \"Y9Yp\", \"gates\": [\"RY\", \"RY\", \"M\"], \"params\": [0.5, 1, -1]},\n",
    "        {\"name\": \"YpY9\", \"gates\": [\"RY\", \"RY\", \"M\"], \"params\": [1, 0.5, -1]},\n",
    "        {\"name\": \"XpI\", \"gates\": [\"RX\", \"I\", \"M\"], \"params\": [1, -1, -1]},\n",
    "        {\"name\": \"YpI\", \"gates\": [\"RY\", \"I\", \"M\"], \"params\": [1, -1, -1]},\n",
    "        {\"name\": \"X9X9\", \"gates\": [\"RX\", \"RX\", \"M\"], \"params\": [0.5, 0.5, -1]},\n",
    "        {\"name\": \"Y9Y9\", \"gates\": [\"RY\", \"RY\", \"M\"], \"params\": [0.5, 0.5, -1]},\n",
    "    ]\n",
    "}\n",
    "\n",
    "circuits = []\n",
    "for circ_settings in circuit_settings[\"circuits\"]:\n",
    "    circuit = Circuit(qubit + 1)\n",
    "    c_gates = circ_settings[\"gates\"]\n",
    "    gates_params = circ_settings[\"params\"]\n",
    "    for gate, gate_param in zip(c_gates, gates_params):\n",
    "        if gate == \"RX\":\n",
    "            circuit.add(ql.Drag(q=qubit, theta=gate_param * np.pi, phase=0))\n",
    "        elif gate == \"RY\":\n",
    "            circuit.add(ql.Drag(q=qubit, theta=gate_param * np.pi, phase=np.pi / 2))\n",
    "        elif gate == \"I\":\n",
    "            circuit.add(ql.Drag(q=qubit, theta=0, phase=0))\n",
    "    circuit.add(gates.M(qubit))\n",
    "    circuits.append(circuit)"
   ]
  },
  {
   "attachments": {},
   "cell_type": "markdown",
   "metadata": {},
   "source": [
    "### Platform initialization"
   ]
  },
  {
   "cell_type": "code",
   "execution_count": null,
   "metadata": {},
   "outputs": [],
   "source": [
    "platform = ql.build_platform(runcard=PLATFORM_PATH)"
   ]
  },
  {
   "attachments": {},
   "cell_type": "markdown",
   "metadata": {},
   "source": [
    "### Slurm job name"
   ]
  },
  {
   "cell_type": "code",
   "execution_count": null,
   "metadata": {},
   "outputs": [],
   "source": [
    "job_name = f\"AC-xy-q{qubit}\""
   ]
  },
  {
   "attachments": {},
   "cell_type": "markdown",
   "metadata": {},
   "source": [
    "### Run sequence"
   ]
  },
  {
   "cell_type": "code",
   "execution_count": null,
   "metadata": {},
   "outputs": [],
   "source": [
    "%%submit_job -o results -p $partition -n $job_name\n",
    "\n",
    "platform.connect()\n",
    "platform.initial_setup()\n",
    "platform.turn_on_instruments()\n",
    "results = []\n",
    "\n",
    "for circuit in tqdm(circuits, total=len(circuits)):\n",
    "    result = platform.execute(program=circuit, num_avg=HW_AVG, repetition_duration=REPETITION_DURATION)\n",
    "    results.append(result.array)\n",
    "\n",
    "platform.disconnect()"
   ]
  },
  {
   "cell_type": "code",
   "execution_count": null,
   "metadata": {},
   "outputs": [],
   "source": [
    "results = results.result()\n",
    "loops = {}\n",
    "ql.save_results(results=results, loops=loops, data_path=\"../data/\", name=job_name)\n",
    "i, q = np.hstack(results)\n",
    "\n",
    "fig, axs = plt.subplots(1, 2, figsize=(13, 7))\n",
    "axs[0].plot(i, \"--o\", color=\"blue\")\n",
    "axs[1].plot(q, \"--o\", color=\"blue\")\n",
    "axs[0].set_title(\"I\")\n",
    "axs[1].set_title(\"Q\")\n",
    "axs[0].set_ylabel(\"Voltage [a.u.]\")\n",
    "axs[1].set_ylabel(\"Voltage [a.u.]\")\n",
    "ax = fig.gca()\n",
    "fig.suptitle(f\"Allxy q{qubit}\")\n",
    "fig.tight_layout()"
   ]
  },
  {
   "attachments": {},
   "cell_type": "markdown",
   "metadata": {},
   "source": [
    "### Define plotting functions"
   ]
  },
  {
   "cell_type": "code",
   "execution_count": null,
   "metadata": {},
   "outputs": [],
   "source": [
    "def plot_iq(xdata, results: np.ndarray, title_label: str, xlabel: str, check=False):\n",
    "    fig, axes = plt.subplots(1, 2, figsize=(13, 7))\n",
    "    if check:\n",
    "        axes[0].scatter(xdata, results[0])\n",
    "        axes[1].scatter(xdata, results[1])\n",
    "    else:\n",
    "        axes[0].plot(xdata, results[0], \"--o\", color=\"blue\")\n",
    "        axes[1].plot(xdata, results[1], \"--o\", color=\"blue\")\n",
    "    axy = axes[1].twiny()\n",
    "    # other_xlim = axes[1].get_xlim()\n",
    "    axy.set_xlim(-10, 10)\n",
    "    axes[0].set_title(\"I\")\n",
    "    axes[1].set_title(\"Q\")\n",
    "    axes[0].set_xlabel(xlabel)\n",
    "    axes[1].set_xlabel(xlabel)\n",
    "    axes[0].set_ylabel(\"Voltage [a.u.]\")\n",
    "    axes[1].set_ylabel(\"Voltage [a.u.]\")\n",
    "    fig.suptitle(title_label)\n",
    "    return fig, axes"
   ]
  },
  {
   "attachments": {},
   "cell_type": "markdown",
   "metadata": {},
   "source": [
    "### Fit data"
   ]
  },
  {
   "cell_type": "code",
   "execution_count": null,
   "metadata": {},
   "outputs": [],
   "source": [
    "# Initialize dictionaries\n",
    "r_squared = {\"i\": 0, \"q\": 0}\n",
    "fitted_ifs = {\"i\": None, \"q\": None}\n",
    "fitted_eval_funcs = []\n",
    "\n",
    "# Loop over quadratures\n",
    "for fit_quadrature in [\"i\", \"q\"]:\n",
    "    # Fitting function\n",
    "    def lorentzian(x, amplitude, center, width, offset):\n",
    "        return amplitude / (1 + ((x - center) / (0.5 * width)) ** 2) + offset\n",
    "\n",
    "    # Fit signal\n",
    "    fit_signal = results[0] if fit_quadrature == \"i\" else results[1]\n",
    "\n",
    "    # Lorentzian fit\n",
    "    mod = lmfit.Model(lorentzian)\n",
    "\n",
    "    # Set initial parameter values\n",
    "    initial_amp = max(fit_signal) - min(fit_signal)\n",
    "    if (np.mean(fit_signal) - min(fit_signal)) ** 2 > (np.mean(fit_signal) - max(fit_signal)) ** 2:\n",
    "        # if the mean of the values is closer to the maximum, it means we have negative amplitude!\n",
    "        initial_amp = -initial_amp\n",
    "\n",
    "    mod.set_param_hint(\n",
    "        \"amplitude\",\n",
    "        value=initial_amp,\n",
    "        min=-abs(max(fit_signal) - min(fit_signal)),\n",
    "        max=abs(max(fit_signal) - min(fit_signal)),\n",
    "    )\n",
    "    mod.set_param_hint(\"center\", value=np.mean(sweep_interval), min=np.min(sweep_interval), max=np.max(sweep_interval))\n",
    "    mod.set_param_hint(\n",
    "        \"width\",\n",
    "        value=(max(sweep_interval) - min(sweep_interval)) / 10,\n",
    "        min=(max(sweep_interval) - min(sweep_interval)) / 100,\n",
    "        max=(max(sweep_interval) - min(sweep_interval)),\n",
    "    )\n",
    "    mod.set_param_hint(\"offset\", value=np.mean(fit_signal), min=np.min(fit_signal), max=np.max(fit_signal))\n",
    "\n",
    "    params = mod.make_params()\n",
    "    fit = mod.fit(data=fit_signal, params=params, x=sweep_interval, method=\"differential_evolution\")\n",
    "\n",
    "    # Update r_squared value\n",
    "    r_squared[fit_quadrature] = fit.rsquared\n",
    "\n",
    "    fitted_amplitude = fit.params[\"amplitude\"].value\n",
    "    fitted_center = fit.params[\"center\"].value\n",
    "    fitted_width = fit.params[\"width\"].value\n",
    "    fitted_offset = fit.params[\"offset\"].value\n",
    "\n",
    "    popt = [fitted_amplitude, fitted_center, fitted_width, fitted_offset]\n",
    "\n",
    "    xdata = np.linspace(min(sweep_interval), max(sweep_interval), num=1000)\n",
    "\n",
    "    if fitted_amplitude < 0:\n",
    "        fitted_if = sweep_interval[\n",
    "            np.argmin(lorentzian(sweep_interval, fitted_amplitude, fitted_center, fitted_width, fitted_offset))\n",
    "        ]\n",
    "    else:\n",
    "        fitted_if = sweep_interval[\n",
    "            np.argmax(lorentzian(sweep_interval, fitted_amplitude, fitted_center, fitted_width, fitted_offset))\n",
    "        ]\n",
    "\n",
    "    fitted_ifs[fit_quadrature] = fitted_if\n",
    "    fitted_func = lorentzian(sweep_interval, *popt)\n",
    "    fitted_eval_funcs.append(fitted_func)\n",
    "\n",
    "    # Plot\n",
    "    fig, axes = plot_iq(\n",
    "        xdata=sweep_interval, results=results, title_label=f\"2 Tone q{qubit}\", xlabel=\"Amplitude\", check=check\n",
    "    )\n",
    "    ax = axes[0 if fit_quadrature == \"i\" else 1]\n",
    "    if check and len(compare_fit) > 0:\n",
    "        fitted_func = compare_fit[1][0] if fit_quadrature == \"i\" else compare_fit[1][1]\n",
    "        ax.plot(compare_fit[0], fitted_func, \"--\", label=\"previously calibrated fit\", color=\"red\")\n",
    "        ax.legend()\n",
    "    else:\n",
    "        label_fit = f\"FITTED IF = {fitted_if}\"\n",
    "        ax.plot(sweep_interval, fitted_func, \"--\", label=label_fit, color=\"red\")\n",
    "    ax.legend()\n",
    "\n",
    "# Display results or further analysis as needed"
   ]
  },
  {
   "attachments": {},
   "cell_type": "markdown",
   "metadata": {},
   "source": [
    "### Select best fit and update runcard"
   ]
  },
  {
   "cell_type": "code",
   "execution_count": null,
   "metadata": {},
   "outputs": [],
   "source": [
    "best_quadrature = \"i\" if r_squared[\"i\"] > r_squared[\"q\"] else \"q\"\n",
    "best_fit = fitted_ifs[best_quadrature]\n",
    "\n",
    "print(f\"Fitted IF: {best_fit}\")"
   ]
  },
  {
   "cell_type": "code",
   "execution_count": null,
   "metadata": {},
   "outputs": [],
   "source": [
    "key = \"IF\"\n",
    "print(f\"OUTPUTS{key}:{best_fit}\")"
   ]
  },
  {
   "cell_type": "code",
   "execution_count": null,
   "metadata": {},
   "outputs": [],
   "source": [
    "platform_parameters = [(ql.Parameter.IF, float(best_fit), f\"drive_q{qubit}_bus\", None)]"
   ]
  },
  {
   "cell_type": "code",
   "execution_count": null,
   "metadata": {},
   "outputs": [],
   "source": [
    "export_nb_outputs(\n",
    "    {\n",
    "        \"check_parameters\": {\"sweep_interval\": np.arange(1, 20, 1).tolist(), \"results\": [i.tolist(), q.tolist()]},\n",
    "    }\n",
    ")"
   ]
  }
 ],
 "metadata": {
  "language_info": {
   "name": "python"
  },
  "orig_nbformat": 4
 },
 "nbformat": 4,
 "nbformat_minor": 2
}
